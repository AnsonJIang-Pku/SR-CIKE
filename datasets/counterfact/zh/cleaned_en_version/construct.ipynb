{
 "cells": [
  {
   "cell_type": "code",
   "execution_count": 11,
   "id": "392e3604",
   "metadata": {},
   "outputs": [
    {
     "name": "stdout",
     "output_type": "stream",
     "text": [
      "处理完成，结果已保存到 /home/zjiang/repos/TODO/CrossLingual_IKE/datasets/counterfact/zh/cleaned_en_version/counterfact_dev_en_cleaned.json\n"
     ]
    }
   ],
   "source": [
    "import json\n",
    "\n",
    "# 输入文件和输出文件路径\n",
    "input_file = '/home/zjiang/repos/TODO/CrossLingual_IKE/datasets/counterfact/en/dev/counterfact_dev.json' \n",
    "output_file = '/home/zjiang/repos/TODO/CrossLingual_IKE/datasets/counterfact/zh/cleaned_en_version/counterfact_dev_en_cleaned.json' \n",
    "\n",
    "# 读取原始JSON文件\n",
    "with open(input_file, 'r', encoding='utf-8') as f:\n",
    "    data = json.load(f)\n",
    "\n",
    "# 如果是列表形式的JSON（多个项目）\n",
    "if isinstance(data, list):\n",
    "    # 遍历每个项目，删除不需要的键\n",
    "    for item in data:\n",
    "        if \"attribute_prompts\" in item:\n",
    "            del item[\"attribute_prompts\"]\n",
    "        if \"generation_prompts\" in item:\n",
    "            del item[\"generation_prompts\"]\n",
    "\n",
    "# 将处理后的数据写入新文件\n",
    "with open(output_file, 'w', encoding='utf-8') as f:\n",
    "    json.dump(data, f, ensure_ascii=False, indent=4)\n",
    "\n",
    "print(f\"处理完成，结果已保存到 {output_file}\")"
   ]
  },
  {
   "cell_type": "code",
   "execution_count": 12,
   "id": "d59b3f83",
   "metadata": {},
   "outputs": [],
   "source": [
    "import pandas as pd\n",
    "df1 = pd.read_json(input_file)\n",
    "df2 = pd.read_json(output_file)"
   ]
  },
  {
   "cell_type": "code",
   "execution_count": 13,
   "id": "4b7f0373",
   "metadata": {},
   "outputs": [
    {
     "data": {
      "text/plain": [
       "(6000, 5)"
      ]
     },
     "execution_count": 13,
     "metadata": {},
     "output_type": "execute_result"
    }
   ],
   "source": [
    "df2.shape"
   ]
  }
 ],
 "metadata": {
  "kernelspec": {
   "display_name": "EasyEdit",
   "language": "python",
   "name": "python3"
  },
  "language_info": {
   "codemirror_mode": {
    "name": "ipython",
    "version": 3
   },
   "file_extension": ".py",
   "mimetype": "text/x-python",
   "name": "python",
   "nbconvert_exporter": "python",
   "pygments_lexer": "ipython3",
   "version": "3.9.20"
  }
 },
 "nbformat": 4,
 "nbformat_minor": 5
}
